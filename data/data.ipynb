{
 "cells": [
  {
   "cell_type": "code",
   "execution_count": 1,
   "metadata": {},
   "outputs": [],
   "source": [
    "import pandas as pd \n",
    "import praw\n",
    "from praw.models import MoreComments\n",
    "\n",
    "import os"
   ]
  },
  {
   "cell_type": "code",
   "execution_count": 4,
   "metadata": {},
   "outputs": [],
   "source": [
    "client_id = os.getenv('CLIENT_ID')\n",
    "client_secret = os.getenv('CLIENT_SECRET')"
   ]
  },
  {
   "cell_type": "code",
   "execution_count": 5,
   "metadata": {},
   "outputs": [],
   "source": [
    "# reddit agent to insert credentials\n",
    "reddit = praw.Reddit(user_agent='Comment Extraction (by /u/Agile_Swordfish_1564)',\n",
    "                     client_id=client_id,\n",
    "                     client_secret=client_secret)"
   ]
  },
  {
   "cell_type": "code",
   "execution_count": 15,
   "metadata": {},
   "outputs": [
    {
     "name": "stderr",
     "output_type": "stream",
     "text": [
      "/tmp/ipykernel_50661/1938056916.py:4: DeprecationWarning: Positional arguments for 'BaseListingMixin.top' will no longer be supported in PRAW 8.\n",
      "Call this function with 'time_filter' as a keyword argument.\n",
      "  for submission in sub.top(\"all\"):\n"
     ]
    },
    {
     "name": "stdout",
     "output_type": "stream",
     "text": [
      "                                               title  \\\n",
      "0                                         data siens   \n",
      "1  I was once reading this article that went as: ...   \n",
      "2  How do you change your setup on Jupyter to loo...   \n",
      "3      The reality of 9/10 data scientist job specs!   \n",
      "4        oh fuck 😂😂😂this had no business to be funny   \n",
      "\n",
      "                                                body  \n",
      "0                                                     \n",
      "1  [#SportsAnalytics, I’m a ManU fan. I want Cava...  \n",
      "2                           [IMPORT EXCEL DATAFRAME]  \n",
      "3  [[deleted], It would be...\\n\\nRequirements:\\nP...  \n",
      "4  [God the fact that he didn't even refence anot...  \n"
     ]
    }
   ],
   "source": [
    "sub = reddit.subreddit(\"datascience\")\n",
    "# get posts questions and comments to the questions\n",
    "posts = {}\n",
    "for submission in sub.top(\"all\"):\n",
    "    posts[submission.title] = submission.selftext\n",
    "    submission.comments.replace_more(limit=None)\n",
    "    for comment in submission.comments.list():\n",
    "        posts[comment.body] = [top_level_comment.body for top_level_comment in comment.replies]\n",
    "posts = pd.DataFrame(posts.items(), columns=['title', 'body'])\n",
    "\n",
    "data = posts.to_csv('posts.csv', index=False)\n",
    "\n",
    "print(posts.head())\n"
   ]
  },
  {
   "cell_type": "code",
   "execution_count": 16,
   "metadata": {},
   "outputs": [
    {
     "data": {
      "text/html": [
       "<div>\n",
       "<style scoped>\n",
       "    .dataframe tbody tr th:only-of-type {\n",
       "        vertical-align: middle;\n",
       "    }\n",
       "\n",
       "    .dataframe tbody tr th {\n",
       "        vertical-align: top;\n",
       "    }\n",
       "\n",
       "    .dataframe thead th {\n",
       "        text-align: right;\n",
       "    }\n",
       "</style>\n",
       "<table border=\"1\" class=\"dataframe\">\n",
       "  <thead>\n",
       "    <tr style=\"text-align: right;\">\n",
       "      <th></th>\n",
       "      <th>title</th>\n",
       "      <th>body</th>\n",
       "    </tr>\n",
       "  </thead>\n",
       "  <tbody>\n",
       "    <tr>\n",
       "      <th>0</th>\n",
       "      <td>data siens</td>\n",
       "      <td>NaN</td>\n",
       "    </tr>\n",
       "    <tr>\n",
       "      <th>1</th>\n",
       "      <td>I was once reading this article that went as: ...</td>\n",
       "      <td>['#SportsAnalytics', 'I’m a ManU fan. I want C...</td>\n",
       "    </tr>\n",
       "    <tr>\n",
       "      <th>2</th>\n",
       "      <td>How do you change your setup on Jupyter to loo...</td>\n",
       "      <td>['IMPORT EXCEL DATAFRAME']</td>\n",
       "    </tr>\n",
       "    <tr>\n",
       "      <th>3</th>\n",
       "      <td>The reality of 9/10 data scientist job specs!</td>\n",
       "      <td>['[deleted]', 'It would be...\\n\\nRequirements:...</td>\n",
       "    </tr>\n",
       "    <tr>\n",
       "      <th>4</th>\n",
       "      <td>oh fuck 😂😂😂this had no business to be funny</td>\n",
       "      <td>[\"God the fact that he didn't even refence ano...</td>\n",
       "    </tr>\n",
       "  </tbody>\n",
       "</table>\n",
       "</div>"
      ],
      "text/plain": [
       "                                               title  \\\n",
       "0                                         data siens   \n",
       "1  I was once reading this article that went as: ...   \n",
       "2  How do you change your setup on Jupyter to loo...   \n",
       "3      The reality of 9/10 data scientist job specs!   \n",
       "4        oh fuck 😂😂😂this had no business to be funny   \n",
       "\n",
       "                                                body  \n",
       "0                                                NaN  \n",
       "1  ['#SportsAnalytics', 'I’m a ManU fan. I want C...  \n",
       "2                         ['IMPORT EXCEL DATAFRAME']  \n",
       "3  ['[deleted]', 'It would be...\\n\\nRequirements:...  \n",
       "4  [\"God the fact that he didn't even refence ano...  "
      ]
     },
     "execution_count": 16,
     "metadata": {},
     "output_type": "execute_result"
    }
   ],
   "source": [
    "df = pd.read_csv(\"posts.csv\")\n",
    "df.head()"
   ]
  },
  {
   "cell_type": "code",
   "execution_count": 17,
   "metadata": {},
   "outputs": [
    {
     "data": {
      "text/html": [
       "<div>\n",
       "<style scoped>\n",
       "    .dataframe tbody tr th:only-of-type {\n",
       "        vertical-align: middle;\n",
       "    }\n",
       "\n",
       "    .dataframe tbody tr th {\n",
       "        vertical-align: top;\n",
       "    }\n",
       "\n",
       "    .dataframe thead th {\n",
       "        text-align: right;\n",
       "    }\n",
       "</style>\n",
       "<table border=\"1\" class=\"dataframe\">\n",
       "  <thead>\n",
       "    <tr style=\"text-align: right;\">\n",
       "      <th></th>\n",
       "      <th>title</th>\n",
       "      <th>body</th>\n",
       "    </tr>\n",
       "  </thead>\n",
       "  <tbody>\n",
       "    <tr>\n",
       "      <th>count</th>\n",
       "      <td>12101</td>\n",
       "      <td>12022</td>\n",
       "    </tr>\n",
       "    <tr>\n",
       "      <th>unique</th>\n",
       "      <td>12101</td>\n",
       "      <td>4679</td>\n",
       "    </tr>\n",
       "    <tr>\n",
       "      <th>top</th>\n",
       "      <td>Yeah, but it also can reference getting data p...</td>\n",
       "      <td>[]</td>\n",
       "    </tr>\n",
       "    <tr>\n",
       "      <th>freq</th>\n",
       "      <td>1</td>\n",
       "      <td>7156</td>\n",
       "    </tr>\n",
       "  </tbody>\n",
       "</table>\n",
       "</div>"
      ],
      "text/plain": [
       "                                                    title   body\n",
       "count                                               12101  12022\n",
       "unique                                              12101   4679\n",
       "top     Yeah, but it also can reference getting data p...     []\n",
       "freq                                                    1   7156"
      ]
     },
     "execution_count": 17,
     "metadata": {},
     "output_type": "execute_result"
    }
   ],
   "source": [
    "df.describe()"
   ]
  },
  {
   "cell_type": "code",
   "execution_count": 18,
   "metadata": {},
   "outputs": [
    {
     "name": "stdout",
     "output_type": "stream",
     "text": [
      "<class 'pandas.core.frame.DataFrame'>\n",
      "RangeIndex: 12101 entries, 0 to 12100\n",
      "Data columns (total 2 columns):\n",
      " #   Column  Non-Null Count  Dtype \n",
      "---  ------  --------------  ----- \n",
      " 0   title   12101 non-null  object\n",
      " 1   body    12022 non-null  object\n",
      "dtypes: object(2)\n",
      "memory usage: 189.2+ KB\n"
     ]
    }
   ],
   "source": [
    "df.info()"
   ]
  },
  {
   "cell_type": "code",
   "execution_count": null,
   "metadata": {},
   "outputs": [],
   "source": []
  }
 ],
 "metadata": {
  "kernelspec": {
   "display_name": ".venv",
   "language": "python",
   "name": "python3"
  },
  "language_info": {
   "codemirror_mode": {
    "name": "ipython",
    "version": 3
   },
   "file_extension": ".py",
   "mimetype": "text/x-python",
   "name": "python",
   "nbconvert_exporter": "python",
   "pygments_lexer": "ipython3",
   "version": "3.12.8"
  }
 },
 "nbformat": 4,
 "nbformat_minor": 2
}
